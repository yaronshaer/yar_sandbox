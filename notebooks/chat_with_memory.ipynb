{
 "cells": [
  {
   "cell_type": "code",
   "execution_count": 10,
   "metadata": {},
   "outputs": [],
   "source": [
    "from dotenv import load_dotenv\n",
    "import os#import for loading env variables\n"
   ]
  },
  {
   "cell_type": "code",
   "execution_count": 11,
   "metadata": {},
   "outputs": [],
   "source": [
    "load_dotenv()\n",
    "openai_api_key = os.getenv(\"OPENAI_API_KEY\")"
   ]
  },
  {
   "cell_type": "markdown",
   "metadata": {},
   "source": [
    "## First lers try vanilla chat with no memory. We will use the ChatCompletion API by openai. \n",
    "\n",
    "### This chat model takes a list of messages as input and return a model-generated message as output"
   ]
  },
  {
   "cell_type": "code",
   "execution_count": null,
   "metadata": {},
   "outputs": [],
   "source": [
    "import openai\n",
    "openai.api_key = openai_api_key\n",
    "user_input=\"\"\n",
    "\n",
    "while user_input.lower() != \"quit\":\n",
    "    user_input = input()\n",
    "    response = openai.ChatCompletion.create(\n",
    "        model=\"gpt-3.5-turbo\", temperature=0.2,\n",
    "        messages=[{\"role\": \"user\", \"content\": user_input}])\n",
    "    print(\"OpenAI: \", response.choices[0].message.content)"
   ]
  },
  {
   "cell_type": "markdown",
   "metadata": {},
   "source": [
    "## Let's create a chat with memory using langchain simple buffer memory. \n",
    "### This memory will log the entire conversation in a buffer and pass it to the LLM in every interaction so it has the context when answering. \n",
    "### More memory types supported by  langchaiin found **[here](https://python.langchain.com/docs/modules/memory/)**"
   ]
  },
  {
   "cell_type": "code",
   "execution_count": null,
   "metadata": {},
   "outputs": [],
   "source": [
    "from langchain.chat_models import ChatOpenAI\n",
    "from langchain.chains import ConversationChain\n",
    "from langchain.memory import ConversationBufferMemory\n",
    "\n",
    "\n",
    "chat = ChatOpenAI(temperature=0.2, model=\"gpt-3.5-turbo\")\n",
    "\n",
    "conversation = ConversationChain(llm=chat, memory=ConversationBufferMemory(), verbose=True)\n",
    "user_input = \"\"\n",
    "while user_input.lower() != \"quit\":\n",
    "        user_input = input()\n",
    "        ai_response = conversation.predict(input=user_input)\n",
    "        print(\"\\nOpenAI:\\n\",ai_response)"
   ]
  },
  {
   "cell_type": "markdown",
   "metadata": {},
   "source": [
    "## Now let's try a summary memory which is also supported by langchain. \n",
    "\n",
    "### This type of memory will summarise the conversation so far and pass it to the LLM so it can use that context when responding in next interaction. \n",
    "### More memory types supported by langchaiin found **[here](https://python.langchain.com/docs/modules/memory/)**"
   ]
  },
  {
   "cell_type": "code",
   "execution_count": null,
   "metadata": {},
   "outputs": [],
   "source": [
    "from langchain.chat_models import ChatOpenAI\n",
    "from langchain.chains import ConversationChain\n",
    "from langchain.memory import ConversationSummaryMemory\n",
    "\n",
    "\n",
    "chat = ChatOpenAI(temperature=0.3, model=\"gpt-3.5-turbo\")\n",
    "conversation = ConversationChain(llm=chat, memory=ConversationSummaryMemory(llm=chat), verbose=True)\n",
    "\n",
    "user_input = \"\"\n",
    "while user_input.lower() != \"quit\":\n",
    "    user_input = input()\n",
    "    ai_response = conversation.predict(input=user_input)\n",
    "    print(\"\\nAssistant:\\n\",ai_response)"
   ]
  }
 ],
 "metadata": {
  "kernelspec": {
   "display_name": ".venv",
   "language": "python",
   "name": "python3"
  },
  "language_info": {
   "codemirror_mode": {
    "name": "ipython",
    "version": 3
   },
   "file_extension": ".py",
   "mimetype": "text/x-python",
   "name": "python",
   "nbconvert_exporter": "python",
   "pygments_lexer": "ipython3",
   "version": "3.11.3"
  },
  "orig_nbformat": 4
 },
 "nbformat": 4,
 "nbformat_minor": 2
}
